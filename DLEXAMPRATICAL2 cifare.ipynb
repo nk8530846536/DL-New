{
  "nbformat": 4,
  "nbformat_minor": 0,
  "metadata": {
    "colab": {
      "provenance": [],
      "toc_visible": true
    },
    "kernelspec": {
      "name": "python3",
      "display_name": "Python 3"
    },
    "language_info": {
      "name": "python"
    },
    "accelerator": "GPU",
    "gpuClass": "standard"
  },
  "cells": [
    {
      "cell_type": "code",
      "execution_count": 3,
      "metadata": {
        "id": "Eti5Jwyv41Qe"
      },
      "outputs": [],
      "source": [
        "import tensorflow as tf\n",
        "import matplotlib.pyplot as plt\n"
      ]
    },
    {
      "cell_type": "code",
      "source": [
        "dataset = tf.keras.datasets.cifar10\n",
        "(x_train, y_train), (x_test, y_test) = dataset.load_data()\n",
        "x_train.shape\n",
        "x_train, x_test = x_train/255, x_test/255\n"
      ],
      "metadata": {
        "colab": {
          "base_uri": "https://localhost:8080/",
          "height": 0
        },
        "id": "7VJAFbKI42X6",
        "outputId": "dbc01f25-5758-4cb0-b95b-f55edd7c73c0"
      },
      "execution_count": 4,
      "outputs": [
        {
          "output_type": "stream",
          "name": "stdout",
          "text": [
            "Downloading data from https://www.cs.toronto.edu/~kriz/cifar-10-python.tar.gz\n",
            "170498071/170498071 [==============================] - 6s 0us/step\n"
          ]
        }
      ]
    },
    {
      "cell_type": "code",
      "source": [
        "model = tf.keras.models.Sequential([\n",
        "tf.keras.layers.Conv2D(32, (3,3), input_shape=(32,32,3), activation=\"relu\"),\n",
        "tf.keras.layers.MaxPool2D((2,2)),\n",
        "tf.keras.layers.Conv2D(64, (2,2)),\n",
        "tf.keras.layers.MaxPool2D((2,2)),\n",
        "tf.keras.layers.Flatten(),\n",
        "tf.keras.layers.Dense(128, activation=\"relu\"),\n",
        "tf.keras.layers.Dropout(0.4),\n",
        "tf.keras.layers.Dense(32, activation=\"relu\"),\n",
        "tf.keras.layers.Dropout(0.2),\n",
        "tf.keras.layers.Dense(10, activation=\"sigmoid\")\n",
        "])"
      ],
      "metadata": {
        "id": "AawVgMdg42Vc"
      },
      "execution_count": 5,
      "outputs": []
    },
    {
      "cell_type": "code",
      "source": [
        "sgd = tf.keras.optimizers.SGD(learning_rate=0.01,momentum=0.01)"
      ],
      "metadata": {
        "id": "Xo6K3wtc42N-"
      },
      "execution_count": 6,
      "outputs": []
    },
    {
      "cell_type": "code",
      "source": [
        "from tensorflow.python import metrics\n",
        "model.compile(optimizer=sgd, loss=tf.keras.losses.SparseCategoricalCrossentropy(from_logits=True),metrics=\"accuracy\")\n",
        "                                                                  "
      ],
      "metadata": {
        "id": "qvy5nFNU42Ko"
      },
      "execution_count": 7,
      "outputs": []
    },
    {
      "cell_type": "code",
      "source": [
        "history = model.fit(x_train, y_train, validation_data=(x_test, y_test), batch_size=2000, epochs=100)"
      ],
      "metadata": {
        "colab": {
          "base_uri": "https://localhost:8080/",
          "height": 0
        },
        "id": "i8TkKlqr42Hx",
        "outputId": "7b0786f1-f705-4efa-f6ea-0eed3b16ade0"
      },
      "execution_count": 8,
      "outputs": [
        {
          "output_type": "stream",
          "name": "stdout",
          "text": [
            "Epoch 1/100\n"
          ]
        },
        {
          "output_type": "stream",
          "name": "stderr",
          "text": [
            "/usr/local/lib/python3.7/dist-packages/tensorflow/python/util/dispatch.py:1082: UserWarning: \"`sparse_categorical_crossentropy` received `from_logits=True`, but the `output` argument was produced by a sigmoid or softmax activation and thus does not represent logits. Was this intended?\"\n",
            "  return dispatch_target(*args, **kwargs)\n"
          ]
        },
        {
          "output_type": "stream",
          "name": "stdout",
          "text": [
            "25/25 [==============================] - 10s 68ms/step - loss: 2.3101 - accuracy: 0.1065 - val_loss: 2.2928 - val_accuracy: 0.1105\n",
            "Epoch 2/100\n",
            "25/25 [==============================] - 1s 53ms/step - loss: 2.2913 - accuracy: 0.1238 - val_loss: 2.2823 - val_accuracy: 0.1677\n",
            "Epoch 3/100\n",
            "25/25 [==============================] - 1s 54ms/step - loss: 2.2829 - accuracy: 0.1396 - val_loss: 2.2722 - val_accuracy: 0.1742\n",
            "Epoch 4/100\n",
            "25/25 [==============================] - 1s 52ms/step - loss: 2.2733 - accuracy: 0.1527 - val_loss: 2.2593 - val_accuracy: 0.1820\n",
            "Epoch 5/100\n",
            "25/25 [==============================] - 1s 52ms/step - loss: 2.2621 - accuracy: 0.1611 - val_loss: 2.2459 - val_accuracy: 0.1883\n",
            "Epoch 6/100\n",
            "25/25 [==============================] - 1s 53ms/step - loss: 2.2519 - accuracy: 0.1699 - val_loss: 2.2327 - val_accuracy: 0.1946\n",
            "Epoch 7/100\n",
            "25/25 [==============================] - 1s 53ms/step - loss: 2.2400 - accuracy: 0.1732 - val_loss: 2.2184 - val_accuracy: 0.2047\n",
            "Epoch 8/100\n",
            "25/25 [==============================] - 1s 53ms/step - loss: 2.2287 - accuracy: 0.1806 - val_loss: 2.2024 - val_accuracy: 0.2208\n",
            "Epoch 9/100\n",
            "25/25 [==============================] - 1s 53ms/step - loss: 2.2150 - accuracy: 0.1862 - val_loss: 2.1852 - val_accuracy: 0.2387\n",
            "Epoch 10/100\n",
            "25/25 [==============================] - 1s 53ms/step - loss: 2.2008 - accuracy: 0.1892 - val_loss: 2.1663 - val_accuracy: 0.2462\n",
            "Epoch 11/100\n",
            "25/25 [==============================] - 1s 54ms/step - loss: 2.1860 - accuracy: 0.1964 - val_loss: 2.1477 - val_accuracy: 0.2603\n",
            "Epoch 12/100\n",
            "25/25 [==============================] - 1s 53ms/step - loss: 2.1695 - accuracy: 0.2045 - val_loss: 2.1272 - val_accuracy: 0.2665\n",
            "Epoch 13/100\n",
            "25/25 [==============================] - 1s 54ms/step - loss: 2.1562 - accuracy: 0.2051 - val_loss: 2.1080 - val_accuracy: 0.2750\n",
            "Epoch 14/100\n",
            "25/25 [==============================] - 1s 53ms/step - loss: 2.1431 - accuracy: 0.2103 - val_loss: 2.0912 - val_accuracy: 0.2788\n",
            "Epoch 15/100\n",
            "25/25 [==============================] - 1s 54ms/step - loss: 2.1280 - accuracy: 0.2159 - val_loss: 2.0727 - val_accuracy: 0.2825\n",
            "Epoch 16/100\n",
            "25/25 [==============================] - 1s 52ms/step - loss: 2.1152 - accuracy: 0.2211 - val_loss: 2.0562 - val_accuracy: 0.2909\n",
            "Epoch 17/100\n",
            "25/25 [==============================] - 1s 53ms/step - loss: 2.1028 - accuracy: 0.2262 - val_loss: 2.0416 - val_accuracy: 0.2938\n",
            "Epoch 18/100\n",
            "25/25 [==============================] - 1s 53ms/step - loss: 2.0898 - accuracy: 0.2306 - val_loss: 2.0266 - val_accuracy: 0.3006\n",
            "Epoch 19/100\n",
            "25/25 [==============================] - 1s 53ms/step - loss: 2.0799 - accuracy: 0.2370 - val_loss: 2.0147 - val_accuracy: 0.3026\n",
            "Epoch 20/100\n",
            "25/25 [==============================] - 1s 53ms/step - loss: 2.0671 - accuracy: 0.2421 - val_loss: 2.0007 - val_accuracy: 0.3119\n",
            "Epoch 21/100\n",
            "25/25 [==============================] - 1s 53ms/step - loss: 2.0614 - accuracy: 0.2437 - val_loss: 1.9896 - val_accuracy: 0.3173\n",
            "Epoch 22/100\n",
            "25/25 [==============================] - 1s 52ms/step - loss: 2.0514 - accuracy: 0.2472 - val_loss: 1.9770 - val_accuracy: 0.3264\n",
            "Epoch 23/100\n",
            "25/25 [==============================] - 1s 53ms/step - loss: 2.0406 - accuracy: 0.2556 - val_loss: 1.9658 - val_accuracy: 0.3311\n",
            "Epoch 24/100\n",
            "25/25 [==============================] - 1s 53ms/step - loss: 2.0333 - accuracy: 0.2527 - val_loss: 1.9585 - val_accuracy: 0.3351\n",
            "Epoch 25/100\n",
            "25/25 [==============================] - 1s 53ms/step - loss: 2.0235 - accuracy: 0.2640 - val_loss: 1.9481 - val_accuracy: 0.3342\n",
            "Epoch 26/100\n",
            "25/25 [==============================] - 1s 53ms/step - loss: 2.0181 - accuracy: 0.2632 - val_loss: 1.9385 - val_accuracy: 0.3403\n",
            "Epoch 27/100\n",
            "25/25 [==============================] - 1s 54ms/step - loss: 2.0084 - accuracy: 0.2701 - val_loss: 1.9271 - val_accuracy: 0.3468\n",
            "Epoch 28/100\n",
            "25/25 [==============================] - 1s 53ms/step - loss: 2.0032 - accuracy: 0.2737 - val_loss: 1.9232 - val_accuracy: 0.3514\n",
            "Epoch 29/100\n",
            "25/25 [==============================] - 1s 54ms/step - loss: 1.9971 - accuracy: 0.2771 - val_loss: 1.9134 - val_accuracy: 0.3528\n",
            "Epoch 30/100\n",
            "25/25 [==============================] - 1s 52ms/step - loss: 1.9891 - accuracy: 0.2761 - val_loss: 1.9041 - val_accuracy: 0.3556\n",
            "Epoch 31/100\n",
            "25/25 [==============================] - 1s 53ms/step - loss: 1.9807 - accuracy: 0.2834 - val_loss: 1.8955 - val_accuracy: 0.3585\n",
            "Epoch 32/100\n",
            "25/25 [==============================] - 1s 54ms/step - loss: 1.9769 - accuracy: 0.2842 - val_loss: 1.8853 - val_accuracy: 0.3619\n",
            "Epoch 33/100\n",
            "25/25 [==============================] - 1s 54ms/step - loss: 1.9700 - accuracy: 0.2859 - val_loss: 1.8797 - val_accuracy: 0.3614\n",
            "Epoch 34/100\n",
            "25/25 [==============================] - 1s 54ms/step - loss: 1.9640 - accuracy: 0.2888 - val_loss: 1.8701 - val_accuracy: 0.3672\n",
            "Epoch 35/100\n",
            "25/25 [==============================] - 1s 54ms/step - loss: 1.9569 - accuracy: 0.2943 - val_loss: 1.8625 - val_accuracy: 0.3665\n",
            "Epoch 36/100\n",
            "25/25 [==============================] - 1s 54ms/step - loss: 1.9491 - accuracy: 0.2950 - val_loss: 1.8580 - val_accuracy: 0.3684\n",
            "Epoch 37/100\n",
            "25/25 [==============================] - 1s 53ms/step - loss: 1.9441 - accuracy: 0.2972 - val_loss: 1.8489 - val_accuracy: 0.3684\n",
            "Epoch 38/100\n",
            "25/25 [==============================] - 1s 54ms/step - loss: 1.9432 - accuracy: 0.2991 - val_loss: 1.8426 - val_accuracy: 0.3725\n",
            "Epoch 39/100\n",
            "25/25 [==============================] - 1s 53ms/step - loss: 1.9313 - accuracy: 0.3044 - val_loss: 1.8336 - val_accuracy: 0.3733\n",
            "Epoch 40/100\n",
            "25/25 [==============================] - 1s 53ms/step - loss: 1.9315 - accuracy: 0.3043 - val_loss: 1.8341 - val_accuracy: 0.3766\n",
            "Epoch 41/100\n",
            "25/25 [==============================] - 1s 54ms/step - loss: 1.9211 - accuracy: 0.3080 - val_loss: 1.8226 - val_accuracy: 0.3787\n",
            "Epoch 42/100\n",
            "25/25 [==============================] - 1s 53ms/step - loss: 1.9170 - accuracy: 0.3084 - val_loss: 1.8136 - val_accuracy: 0.3805\n",
            "Epoch 43/100\n",
            "25/25 [==============================] - 1s 53ms/step - loss: 1.9124 - accuracy: 0.3086 - val_loss: 1.8250 - val_accuracy: 0.3779\n",
            "Epoch 44/100\n",
            "25/25 [==============================] - 1s 53ms/step - loss: 1.9085 - accuracy: 0.3149 - val_loss: 1.8034 - val_accuracy: 0.3848\n",
            "Epoch 45/100\n",
            "25/25 [==============================] - 1s 54ms/step - loss: 1.9000 - accuracy: 0.3167 - val_loss: 1.7958 - val_accuracy: 0.3877\n",
            "Epoch 46/100\n",
            "25/25 [==============================] - 1s 53ms/step - loss: 1.9054 - accuracy: 0.3143 - val_loss: 1.7994 - val_accuracy: 0.3837\n",
            "Epoch 47/100\n",
            "25/25 [==============================] - 1s 53ms/step - loss: 1.9020 - accuracy: 0.3160 - val_loss: 1.7873 - val_accuracy: 0.3880\n",
            "Epoch 48/100\n",
            "25/25 [==============================] - 1s 54ms/step - loss: 1.8838 - accuracy: 0.3242 - val_loss: 1.7808 - val_accuracy: 0.3888\n",
            "Epoch 49/100\n",
            "25/25 [==============================] - 1s 54ms/step - loss: 1.8799 - accuracy: 0.3245 - val_loss: 1.7732 - val_accuracy: 0.3931\n",
            "Epoch 50/100\n",
            "25/25 [==============================] - 1s 54ms/step - loss: 1.8909 - accuracy: 0.3231 - val_loss: 1.7717 - val_accuracy: 0.3956\n",
            "Epoch 51/100\n",
            "25/25 [==============================] - 1s 54ms/step - loss: 1.8786 - accuracy: 0.3246 - val_loss: 1.7820 - val_accuracy: 0.3877\n",
            "Epoch 52/100\n",
            "25/25 [==============================] - 1s 55ms/step - loss: 1.8784 - accuracy: 0.3271 - val_loss: 1.7939 - val_accuracy: 0.3788\n",
            "Epoch 53/100\n",
            "25/25 [==============================] - 1s 54ms/step - loss: 1.8635 - accuracy: 0.3332 - val_loss: 1.7549 - val_accuracy: 0.3975\n",
            "Epoch 54/100\n",
            "25/25 [==============================] - 1s 53ms/step - loss: 1.8536 - accuracy: 0.3361 - val_loss: 1.7481 - val_accuracy: 0.3997\n",
            "Epoch 55/100\n",
            "25/25 [==============================] - 1s 53ms/step - loss: 1.8591 - accuracy: 0.3293 - val_loss: 1.7368 - val_accuracy: 0.4054\n",
            "Epoch 56/100\n",
            "25/25 [==============================] - 1s 55ms/step - loss: 1.8521 - accuracy: 0.3340 - val_loss: 1.7462 - val_accuracy: 0.3990\n",
            "Epoch 57/100\n",
            "25/25 [==============================] - 1s 53ms/step - loss: 1.8551 - accuracy: 0.3321 - val_loss: 1.7283 - val_accuracy: 0.4054\n",
            "Epoch 58/100\n",
            "25/25 [==============================] - 1s 54ms/step - loss: 1.8391 - accuracy: 0.3378 - val_loss: 1.7625 - val_accuracy: 0.3856\n",
            "Epoch 59/100\n",
            "25/25 [==============================] - 1s 54ms/step - loss: 1.8433 - accuracy: 0.3390 - val_loss: 1.7452 - val_accuracy: 0.3962\n",
            "Epoch 60/100\n",
            "25/25 [==============================] - 1s 53ms/step - loss: 1.8415 - accuracy: 0.3380 - val_loss: 1.7492 - val_accuracy: 0.3938\n",
            "Epoch 61/100\n",
            "25/25 [==============================] - 1s 53ms/step - loss: 1.8338 - accuracy: 0.3432 - val_loss: 1.7242 - val_accuracy: 0.4043\n",
            "Epoch 62/100\n",
            "25/25 [==============================] - 1s 55ms/step - loss: 1.8187 - accuracy: 0.3478 - val_loss: 1.6986 - val_accuracy: 0.4128\n",
            "Epoch 63/100\n",
            "25/25 [==============================] - 1s 54ms/step - loss: 1.8321 - accuracy: 0.3420 - val_loss: 1.7133 - val_accuracy: 0.4050\n",
            "Epoch 64/100\n",
            "25/25 [==============================] - 1s 54ms/step - loss: 1.8176 - accuracy: 0.3479 - val_loss: 1.7211 - val_accuracy: 0.4043\n",
            "Epoch 65/100\n",
            "25/25 [==============================] - 1s 54ms/step - loss: 1.8184 - accuracy: 0.3472 - val_loss: 1.7072 - val_accuracy: 0.4050\n",
            "Epoch 66/100\n",
            "25/25 [==============================] - 1s 54ms/step - loss: 1.8012 - accuracy: 0.3514 - val_loss: 1.6827 - val_accuracy: 0.4165\n",
            "Epoch 67/100\n",
            "25/25 [==============================] - 1s 54ms/step - loss: 1.8063 - accuracy: 0.3499 - val_loss: 1.7070 - val_accuracy: 0.4089\n",
            "Epoch 68/100\n",
            "25/25 [==============================] - 1s 53ms/step - loss: 1.7926 - accuracy: 0.3542 - val_loss: 1.6716 - val_accuracy: 0.4173\n",
            "Epoch 69/100\n",
            "25/25 [==============================] - 1s 55ms/step - loss: 1.7998 - accuracy: 0.3538 - val_loss: 1.6767 - val_accuracy: 0.4163\n",
            "Epoch 70/100\n",
            "25/25 [==============================] - 1s 54ms/step - loss: 1.7946 - accuracy: 0.3539 - val_loss: 1.6864 - val_accuracy: 0.4142\n",
            "Epoch 71/100\n",
            "25/25 [==============================] - 1s 54ms/step - loss: 1.7844 - accuracy: 0.3598 - val_loss: 1.6780 - val_accuracy: 0.4100\n",
            "Epoch 72/100\n",
            "25/25 [==============================] - 1s 55ms/step - loss: 1.7723 - accuracy: 0.3606 - val_loss: 1.6515 - val_accuracy: 0.4227\n",
            "Epoch 73/100\n",
            "25/25 [==============================] - 1s 53ms/step - loss: 1.7816 - accuracy: 0.3583 - val_loss: 1.7010 - val_accuracy: 0.4078\n",
            "Epoch 74/100\n",
            "25/25 [==============================] - 1s 54ms/step - loss: 1.7739 - accuracy: 0.3612 - val_loss: 1.6505 - val_accuracy: 0.4230\n",
            "Epoch 75/100\n",
            "25/25 [==============================] - 1s 54ms/step - loss: 1.7650 - accuracy: 0.3646 - val_loss: 1.6480 - val_accuracy: 0.4246\n",
            "Epoch 76/100\n",
            "25/25 [==============================] - 1s 54ms/step - loss: 1.7713 - accuracy: 0.3611 - val_loss: 1.6442 - val_accuracy: 0.4282\n",
            "Epoch 77/100\n",
            "25/25 [==============================] - 1s 54ms/step - loss: 1.7655 - accuracy: 0.3630 - val_loss: 1.6522 - val_accuracy: 0.4208\n",
            "Epoch 78/100\n",
            "25/25 [==============================] - 1s 54ms/step - loss: 1.7500 - accuracy: 0.3700 - val_loss: 1.6403 - val_accuracy: 0.4222\n",
            "Epoch 79/100\n",
            "25/25 [==============================] - 1s 54ms/step - loss: 1.7549 - accuracy: 0.3668 - val_loss: 1.6235 - val_accuracy: 0.4329\n",
            "Epoch 80/100\n",
            "25/25 [==============================] - 1s 54ms/step - loss: 1.7533 - accuracy: 0.3719 - val_loss: 1.6355 - val_accuracy: 0.4257\n",
            "Epoch 81/100\n",
            "25/25 [==============================] - 1s 55ms/step - loss: 1.7461 - accuracy: 0.3718 - val_loss: 1.6494 - val_accuracy: 0.4259\n",
            "Epoch 82/100\n",
            "25/25 [==============================] - 1s 55ms/step - loss: 1.7467 - accuracy: 0.3724 - val_loss: 1.6115 - val_accuracy: 0.4346\n",
            "Epoch 83/100\n",
            "25/25 [==============================] - 1s 54ms/step - loss: 1.7422 - accuracy: 0.3734 - val_loss: 1.6207 - val_accuracy: 0.4324\n",
            "Epoch 84/100\n",
            "25/25 [==============================] - 1s 54ms/step - loss: 1.7381 - accuracy: 0.3731 - val_loss: 1.6281 - val_accuracy: 0.4275\n",
            "Epoch 85/100\n",
            "25/25 [==============================] - 1s 53ms/step - loss: 1.7291 - accuracy: 0.3745 - val_loss: 1.5982 - val_accuracy: 0.4383\n",
            "Epoch 86/100\n",
            "25/25 [==============================] - 1s 54ms/step - loss: 1.7224 - accuracy: 0.3789 - val_loss: 1.5975 - val_accuracy: 0.4404\n",
            "Epoch 87/100\n",
            "25/25 [==============================] - 1s 54ms/step - loss: 1.7319 - accuracy: 0.3770 - val_loss: 1.6042 - val_accuracy: 0.4372\n",
            "Epoch 88/100\n",
            "25/25 [==============================] - 1s 54ms/step - loss: 1.7173 - accuracy: 0.3818 - val_loss: 1.5952 - val_accuracy: 0.4368\n",
            "Epoch 89/100\n",
            "25/25 [==============================] - 1s 54ms/step - loss: 1.7184 - accuracy: 0.3818 - val_loss: 1.5810 - val_accuracy: 0.4434\n",
            "Epoch 90/100\n",
            "25/25 [==============================] - 1s 54ms/step - loss: 1.7125 - accuracy: 0.3809 - val_loss: 1.6176 - val_accuracy: 0.4287\n",
            "Epoch 91/100\n",
            "25/25 [==============================] - 1s 53ms/step - loss: 1.7178 - accuracy: 0.3823 - val_loss: 1.5849 - val_accuracy: 0.4418\n",
            "Epoch 92/100\n",
            "25/25 [==============================] - 1s 54ms/step - loss: 1.7129 - accuracy: 0.3838 - val_loss: 1.5859 - val_accuracy: 0.4419\n",
            "Epoch 93/100\n",
            "25/25 [==============================] - 1s 55ms/step - loss: 1.7075 - accuracy: 0.3869 - val_loss: 1.5697 - val_accuracy: 0.4451\n",
            "Epoch 94/100\n",
            "25/25 [==============================] - 1s 54ms/step - loss: 1.6978 - accuracy: 0.3878 - val_loss: 1.5969 - val_accuracy: 0.4410\n",
            "Epoch 95/100\n",
            "25/25 [==============================] - 1s 55ms/step - loss: 1.7017 - accuracy: 0.3857 - val_loss: 1.5772 - val_accuracy: 0.4465\n",
            "Epoch 96/100\n",
            "25/25 [==============================] - 1s 54ms/step - loss: 1.6963 - accuracy: 0.3875 - val_loss: 1.5740 - val_accuracy: 0.4454\n",
            "Epoch 97/100\n",
            "25/25 [==============================] - 1s 54ms/step - loss: 1.6836 - accuracy: 0.3935 - val_loss: 1.5589 - val_accuracy: 0.4519\n",
            "Epoch 98/100\n",
            "25/25 [==============================] - 1s 55ms/step - loss: 1.6881 - accuracy: 0.3890 - val_loss: 1.5784 - val_accuracy: 0.4464\n",
            "Epoch 99/100\n",
            "25/25 [==============================] - 1s 54ms/step - loss: 1.6880 - accuracy: 0.3918 - val_loss: 1.5963 - val_accuracy: 0.4344\n",
            "Epoch 100/100\n",
            "25/25 [==============================] - 1s 53ms/step - loss: 1.6891 - accuracy: 0.3895 - val_loss: 1.5608 - val_accuracy: 0.4482\n"
          ]
        }
      ]
    },
    {
      "cell_type": "code",
      "source": [
        "plt.figure()\n",
        "plt.plot(history.history[\"loss\"], label=\"Loss\")\n",
        "plt.plot(history.history[\"val_loss\"], label=\"Validation loss\")\n",
        "plt.xlabel(\"Epochs\")\n",
        "plt.ylabel(\"Losses\")\n",
        "plt.legend()\n",
        "plt.show()\n"
      ],
      "metadata": {
        "colab": {
          "base_uri": "https://localhost:8080/",
          "height": 279
        },
        "id": "1zsiTpRy42Ez",
        "outputId": "e420eb79-c78d-4998-e8e8-836d99f1e623"
      },
      "execution_count": 13,
      "outputs": [
        {
          "output_type": "display_data",
          "data": {
            "text/plain": [
              "<Figure size 432x288 with 1 Axes>"
            ],
            "image/png": "[encoded data removed]"
          },
          "metadata": {
            "needs_background": "light"
          }
        }
      ]
    },
    {
      "cell_type": "code",
      "source": [
        "plt.figure()\n",
        "plt.plot(history.history[\"accuracy\"], label=\"Accuracy\")\n",
        "plt.plot(history.history[\"val_accuracy\"], label=\"Validation Accuracy\")\n",
        "plt.xlabel(\"Epochs\")\n",
        "plt.ylabel(\"Accuracy\")\n",
        "plt.legend()\n",
        "plt.show()"
      ],
      "metadata": {
        "colab": {
          "base_uri": "https://localhost:8080/",
          "height": 279
        },
        "id": "cN02VRqBAZnb",
        "outputId": "a71ce095-94f5-4afb-84e3-e74c95082497"
      },
      "execution_count": 15,
      "outputs": [
        {
          "output_type": "display_data",
          "data": {
            "text/plain": [
              "<Figure size 432x288 with 1 Axes>"
            ],
            "image/png": "[encoded data removed]"
          },
          "metadata": {
            "needs_background": "light"
          }
        }
      ]
    },
    {
      "cell_type": "code",
      "source": [],
      "metadata": {
        "id": "nqNoWiGTAZj0"
      },
      "execution_count": null,
      "outputs": []
    },
    {
      "cell_type": "code",
      "source": [],
      "metadata": {
        "id": "OjzXOqsYAZgq"
      },
      "execution_count": null,
      "outputs": []
    },
    {
      "cell_type": "code",
      "source": [],
      "metadata": {
        "id": "CuIQVXbeAZeJ"
      },
      "execution_count": null,
      "outputs": []
    }
  ]
}